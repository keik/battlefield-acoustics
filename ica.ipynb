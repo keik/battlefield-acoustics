{
 "cells": [
  {
   "cell_type": "code",
   "execution_count": null,
   "metadata": {
    "collapsed": false
   },
   "outputs": [],
   "source": [
    "import pyaudio\n",
    "import matplotlib.pyplot as plt\n",
    "import numpy as np\n",
    "import scipy.io.wavfile as wav\n",
    "%matplotlib inline\n",
    "\n",
    "\n",
    "FORMAT = pyaudio.paInt16\n",
    "CHANNELS = 1\n",
    "RATE = 44100\n",
    "CHUNK = 1024\n",
    "RECORD_SECONDS = 5\n",
    "\n",
    "def recording():\n",
    "    audio = pyaudio.PyAudio()\n",
    "\n",
    "    # start Recording\n",
    "    stream = audio.open(format=FORMAT,\n",
    "                        channels=CHANNELS,\n",
    "                        rate=RATE, input=True,\n",
    "                        frames_per_buffer=CHUNK)\n",
    "    frames = []\n",
    "    for i in range(0, int(RATE / CHUNK * RECORD_SECONDS)):\n",
    "        data = stream.read(CHUNK)\n",
    "        frames.append(data)\n",
    "\n",
    "    stream.stop_stream()\n",
    "    stream.close()\n",
    "    audio.terminate()\n",
    "    return frames"
   ]
  },
  {
   "cell_type": "code",
   "execution_count": null,
   "metadata": {
    "collapsed": true
   },
   "outputs": [],
   "source": [
    "# recording first samples\n",
    "amplitude1 = np.fromstring(b''.join(recording()), np.int16)"
   ]
  },
  {
   "cell_type": "code",
   "execution_count": null,
   "metadata": {
    "collapsed": true
   },
   "outputs": [],
   "source": [
    "# recording second samples\n",
    "amplitude2 = np.fromstring(b''.join(recording()), np.int16)"
   ]
  },
  {
   "cell_type": "code",
   "execution_count": null,
   "metadata": {
    "collapsed": false
   },
   "outputs": [],
   "source": [
    "plt.xlim(len(amplitude1))\n",
    "plt.plot(amplitude1, 'b', label='first sample', alpha=0.5)\n",
    "plt.plot(amplitude2, 'r', label='second sample', alpha=0.5)\n",
    "plt.legend()"
   ]
  },
  {
   "cell_type": "code",
   "execution_count": null,
   "metadata": {
    "collapsed": false
   },
   "outputs": [],
   "source": [
    "from IPython.display import display, Audio\n",
    "\n",
    "plt.scatter(amplitude1, amplitude2, s=1, marker='x', alpha=0.2)\n",
    "display(Audio(amplitude1, rate=RATE))\n",
    "display(Audio(amplitude2, rate=RATE))"
   ]
  },
  {
   "cell_type": "code",
   "execution_count": null,
   "metadata": {
    "collapsed": false
   },
   "outputs": [],
   "source": [
    "# Step 2:  get two random remixes\n",
    "\n",
    "# Randomly mix\n",
    "r = np.random.rand(4).reshape(2, 2)\n",
    "print('random matrix: ')\n",
    "print(r)\n",
    "\n",
    "x1, x2 = np.dot(r, (amplitude1, amplitude2))\n",
    "\n",
    "#x1 = x1 - mean(x1)\n",
    "#x2 = x2 - mean(x2)\n",
    "\n",
    "plt.subplot(211)\n",
    "plt.xlim(len(x1))\n",
    "plt.title('mixed (x1)')\n",
    "plt.plot(x1)\n",
    "plt.subplot(212)\n",
    "plt.title('mixed (x2)')\n",
    "plt.xlim(len(x2))\n",
    "plt.plot(x2)\n",
    "plt.tight_layout()\n",
    "\n",
    "plt.figure()\n",
    "plt.scatter(x1, x2, s=1, marker='x', alpha=0.2)\n",
    "\n",
    "display(Audio(x1, rate=RATE))\n",
    "display(Audio(x2, rate=RATE))\n",
    "\n",
    "#wav.write('ics_mixsig1.wav',RATE,x1)\n",
    "#wav.write('ica_mixsig2.wav',RATE,x2)"
   ]
  },
  {
   "cell_type": "code",
   "execution_count": null,
   "metadata": {
    "collapsed": false
   },
   "outputs": [],
   "source": [
    "sample1 = x1[::10]\n",
    "sample2 = x2[::10]\n",
    "def kurtosis_of_mixture(c1):\n",
    "    c2 = np.sqrt(1 - c1 ** 2)\n",
    "    s = c1 * sample1 + c2 * sample2\n",
    "    s = s / np.std(s)\n",
    "    k = mean([item ** 4 for item in s]) - 3\n",
    "    return k\n",
    "\n",
    "c_array = np.arange(-1,1,0.001)\n",
    "k_array = [kurtosis_of_mixture(item) for item in c_array]\n",
    "\n",
    "plt.plot(c_array, k_array)"
   ]
  },
  {
   "cell_type": "code",
   "execution_count": null,
   "metadata": {
    "collapsed": false
   },
   "outputs": [],
   "source": [
    "# Step 4:  Find extrema, plot signals that come out.\n",
    "\n",
    "index1 = k_array.index(max(k_array))\n",
    "c1 = c_array[index1]\n",
    "c2 = np.sqrt(1 - c1 ** 2)\n",
    "s  = np.array([int16(item) for item in c1 * x1 + c2 * x2])\n",
    "#wav.write('ica_remixmix1.wav',RATE,s)\n",
    "print(index1, c1, c2)\n",
    "\n",
    "index2 = k_array.index(min(k_array))\n",
    "c1 = c_array[index2]\n",
    "c2 = np.sqrt(1 - c1 ** 2)\n",
    "s2  = np.array([int16(item) for item in c1 * x1 + c2 * x2])\n",
    "#wav.write('ica_remixmix2.wav',RATE,s2)\n",
    "print(index1, c1, c2)\n",
    "\n",
    "display(Audio(s, rate=RATE))\n",
    "display(Audio(s2, rate=RATE))"
   ]
  }
 ],
 "metadata": {
  "kernelspec": {
   "display_name": "Python 3",
   "language": "python",
   "name": "python3"
  },
  "language_info": {
   "codemirror_mode": {
    "name": "ipython",
    "version": 3
   },
   "file_extension": ".py",
   "mimetype": "text/x-python",
   "name": "python",
   "nbconvert_exporter": "python",
   "pygments_lexer": "ipython3",
   "version": "3.5.1"
  }
 },
 "nbformat": 4,
 "nbformat_minor": 0
}
