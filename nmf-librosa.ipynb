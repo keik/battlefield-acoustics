{
 "cells": [
  {
   "cell_type": "code",
   "execution_count": 1,
   "metadata": {
    "collapsed": true
   },
   "outputs": [],
   "source": [
    "import numpy as np\n",
    "import librosa\n",
    "import matplotlib.pyplot as plt\n",
    "%matplotlib inline"
   ]
  },
  {
   "cell_type": "code",
   "execution_count": 2,
   "metadata": {
    "collapsed": false
   },
   "outputs": [
    {
     "name": "stdout",
     "output_type": "stream",
     "text": [
      "(352800,)\n",
      "(1025, 690)\n",
      "(1025, 8) (8, 690)\n"
     ]
    }
   ],
   "source": [
    "y, sr = librosa.load('data/doremi.wav', sr=44100)\n",
    "print(np.shape(y))  # 44100frames/s * 8s = 352800\n",
    "\n",
    "D = librosa.stft(y, n_fft=2048, hop_length=512)\n",
    "print(np.shape(D))  # (2048 / 2 + 1, ceil(352800 / 512)) -> (1024, 690)\n",
    "\n",
    "comps, acts = librosa.decompose.decompose(np.abs(D), n_components=8)\n",
    "print(np.shape(comps), np.shape(acts))  # (1025, 8) (8, 690)"
   ]
  },
  {
   "cell_type": "code",
   "execution_count": 3,
   "metadata": {
    "collapsed": false
   },
   "outputs": [
    {
     "data": {
      "text/plain": [
       "<matplotlib.image.AxesImage at 0x1177ab2e8>"
      ]
     },
     "execution_count": 3,
     "metadata": {},
     "output_type": "execute_result"
    },
    {
     "data": {
      "image/png": "[encoded data removed]",
      "text/plain": [
       "<matplotlib.figure.Figure at 0x117675898>"
      ]
     },
     "metadata": {},
     "output_type": "display_data"
    }
   ],
   "source": [
    "librosa.display.specshow(librosa.logamplitude(np.abs(D) ** 2, ref_power=np.max), y_axis='log', sr=44100)"
   ]
  },
  {
   "cell_type": "code",
   "execution_count": null,
   "metadata": {
    "collapsed": false
   },
   "outputs": [],
   "source": []
  }
 ],
 "metadata": {
  "kernelspec": {
   "display_name": "Python 3",
   "language": "python",
   "name": "python3"
  },
  "language_info": {
   "codemirror_mode": {
    "name": "ipython",
    "version": 3
   },
   "file_extension": ".py",
   "mimetype": "text/x-python",
   "name": "python",
   "nbconvert_exporter": "python",
   "pygments_lexer": "ipython3",
   "version": "3.5.1"
  }
 },
 "nbformat": 4,
 "nbformat_minor": 0
}
